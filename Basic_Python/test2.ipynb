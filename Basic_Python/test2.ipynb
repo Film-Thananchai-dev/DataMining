{
 "cells": [
  {
   "cell_type": "markdown",
   "id": "dab09cb2",
   "metadata": {},
   "source": [
    "# This is Elon musk"
   ]
  },
  {
   "cell_type": "code",
   "execution_count": 1,
   "id": "372192de",
   "metadata": {},
   "outputs": [
    {
     "data": {
      "text/plain": [
       "44"
      ]
     },
     "execution_count": 1,
     "metadata": {},
     "output_type": "execute_result"
    }
   ],
   "source": [
    "age = 44\n",
    "age"
   ]
  },
  {
   "cell_type": "markdown",
   "id": "32990128",
   "metadata": {},
   "source": [
    "# Installing package"
   ]
  },
  {
   "cell_type": "code",
   "execution_count": null,
   "id": "e8c6e368",
   "metadata": {},
   "outputs": [],
   "source": [
    "! pip install jupyter"
   ]
  },
  {
   "cell_type": "code",
   "execution_count": null,
   "id": "07317a88",
   "metadata": {},
   "outputs": [],
   "source": [
    "! pip install numpy"
   ]
  },
  {
   "cell_type": "code",
   "execution_count": null,
   "id": "eb16a867",
   "metadata": {},
   "outputs": [],
   "source": [
    "! pip install pandas"
   ]
  },
  {
   "cell_type": "code",
   "execution_count": null,
   "id": "ac2983cb",
   "metadata": {},
   "outputs": [],
   "source": [
    "! pip install matplotlib"
   ]
  },
  {
   "cell_type": "code",
   "execution_count": null,
   "id": "371724d5",
   "metadata": {},
   "outputs": [],
   "source": [
    "! pip install scikit-learn"
   ]
  },
  {
   "cell_type": "code",
   "execution_count": null,
   "id": "d597a803",
   "metadata": {},
   "outputs": [],
   "source": [
    "! pip install openpyxl"
   ]
  },
  {
   "cell_type": "code",
   "execution_count": null,
   "id": "76796f94",
   "metadata": {},
   "outputs": [],
   "source": [
    "! pip install seaborn"
   ]
  }
 ],
 "metadata": {
  "kernelspec": {
   "display_name": "env",
   "language": "python",
   "name": "python3"
  },
  "language_info": {
   "codemirror_mode": {
    "name": "ipython",
    "version": 3
   },
   "file_extension": ".py",
   "mimetype": "text/x-python",
   "name": "python",
   "nbconvert_exporter": "python",
   "pygments_lexer": "ipython3",
   "version": "3.13.5"
  }
 },
 "nbformat": 4,
 "nbformat_minor": 5
}
