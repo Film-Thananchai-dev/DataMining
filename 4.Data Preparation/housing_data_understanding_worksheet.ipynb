{
 "cells": [
  {
   "cell_type": "markdown",
   "id": "ebd0a4d4",
   "metadata": {},
   "source": [
    "# Data Understanding Worksheet : Housing Dataset\n",
    "\n",
    "ในใบงานนี้ นักศึกษาจะได้ฝึกกระบวนการ **ทำความเข้าใจกับข้อมูล (Data Understanding)** โดยใช้ dataset `housing.csv` (เช่น California Housing Dataset) ซึ่งประกอบด้วยข้อมูลเชิงประชากรและที่อยู่อาศัยในแคลิฟอร์เนีย\n",
    "\n",
    "---\n",
    "*Generated: 2025-08-28 13:31:06*"
   ]
  },
  {
   "cell_type": "code",
   "execution_count": 1,
   "id": "4c5e9fba",
   "metadata": {},
   "outputs": [],
   "source": [
    "## ตั้งค่าเริ่มต้น\n",
    "import pandas as pd\n",
    "import matplotlib.pyplot as plt\n",
    "import seaborn as sns\n",
    "\n",
    "# ตั้งค่าการแสดงผลของ pandas (ปรับได้ตามชอบ)\n",
    "pd.set_option('display.max_columns', 100)\n",
    "pd.set_option('display.precision', 3)\n"
   ]
  },
  {
   "cell_type": "markdown",
   "id": "5d923ccc",
   "metadata": {},
   "source": [
    "## 1) ตรวจสอบโครงสร้างข้อมูล (Data Structure)\n",
    "**คำสั่ง:**\n",
    "1. โหลดไฟล์ `housing.csv` มาเป็น DataFrame ชื่อ `housing`\n",
    "2. แสดงจำนวนแถวและคอลัมน์ของ dataset (`.shape`)\n",
    "3. ตรวจสอบชนิดข้อมูลของแต่ละคอลัมน์ (`.info()`)\n"
   ]
  },
  {
   "cell_type": "code",
   "execution_count": 3,
   "id": "eb0d7f2b",
   "metadata": {},
   "outputs": [
    {
     "data": {
      "text/plain": [
       "(10, 4)"
      ]
     },
     "execution_count": 3,
     "metadata": {},
     "output_type": "execute_result"
    }
   ],
   "source": [
    "# TODO: เขียนโค้ดที่นี่\n",
    "housing = pd.read_csv('./datasets/data_sample.csv')\n",
    "housing.shape"
   ]
  },
  {
   "cell_type": "code",
   "execution_count": 4,
   "id": "aa210b30",
   "metadata": {},
   "outputs": [
    {
     "data": {
      "text/plain": [
       "<bound method DataFrame.info of    Country   Age   Salary Purchased\n",
       "0   France  44.0  72000.0        No\n",
       "1    Spain  27.0  48000.0       Yes\n",
       "2  Germany  30.0  54000.0        No\n",
       "3    Spain  38.0  61000.0        No\n",
       "4  Germany  40.0      NaN       Yes\n",
       "5   France  35.0  58000.0       Yes\n",
       "6    Spain   NaN  52000.0        No\n",
       "7   France  48.0  79000.0       Yes\n",
       "8  Germany  50.0  83000.0        No\n",
       "9   France  37.0  67000.0       Yes>"
      ]
     },
     "execution_count": 4,
     "metadata": {},
     "output_type": "execute_result"
    }
   ],
   "source": [
    "# TODO: ตรวจสอบชนิดข้อมูล\n",
    "housing.info"
   ]
  },
  {
   "cell_type": "markdown",
   "id": "24e227f7",
   "metadata": {},
   "source": [
    "## 2) ตรวจสอบ Missing Values\n",
    "**คำสั่ง:**\n",
    "1. ตรวจสอบว่ามีคอลัมน์ใดที่มี missing values บ้าง\n",
    "2. แสดงจำนวนและสัดส่วน (%) ของ missing values ในแต่ละคอลัมน์\n"
   ]
  },
  {
   "cell_type": "code",
   "execution_count": 7,
   "id": "044a00f9",
   "metadata": {},
   "outputs": [
    {
     "name": "stdout",
     "output_type": "stream",
     "text": [
      "Country       0.0\n",
      "Age          10.0\n",
      "Salary       10.0\n",
      "Purchased     0.0\n",
      "dtype: float64\n"
     ]
    }
   ],
   "source": [
    "# TODO: เขียนโค้ดที่นี่\n",
    "housing.isnull()\n",
    "percent_missing_value = housing.isnull().sum() * 100 / len(housing)\n",
    "print(percent_missing_value)\n"
   ]
  },
  {
   "cell_type": "markdown",
   "id": "ee6ffed3",
   "metadata": {},
   "source": [
    "## 3) สถิติพื้นฐาน (Descriptive Statistics)\n",
    "**คำสั่ง:**\n",
    "1. แสดงค่าสถิติพื้นฐานของคอลัมน์ตัวเลข (`.describe()`)\n",
    "2. หาค่าเฉลี่ยและค่ามัธยฐานของ `median_income` และ `median_house_value`\n"
   ]
  },
  {
   "cell_type": "code",
   "execution_count": 10,
   "id": "e19954a5",
   "metadata": {},
   "outputs": [
    {
     "data": {
      "text/html": [
       "<div>\n",
       "<style scoped>\n",
       "    .dataframe tbody tr th:only-of-type {\n",
       "        vertical-align: middle;\n",
       "    }\n",
       "\n",
       "    .dataframe tbody tr th {\n",
       "        vertical-align: top;\n",
       "    }\n",
       "\n",
       "    .dataframe thead th {\n",
       "        text-align: right;\n",
       "    }\n",
       "</style>\n",
       "<table border=\"1\" class=\"dataframe\">\n",
       "  <thead>\n",
       "    <tr style=\"text-align: right;\">\n",
       "      <th></th>\n",
       "      <th>Age</th>\n",
       "      <th>Salary</th>\n",
       "    </tr>\n",
       "  </thead>\n",
       "  <tbody>\n",
       "    <tr>\n",
       "      <th>count</th>\n",
       "      <td>9.000</td>\n",
       "      <td>9.000</td>\n",
       "    </tr>\n",
       "    <tr>\n",
       "      <th>mean</th>\n",
       "      <td>38.778</td>\n",
       "      <td>63777.778</td>\n",
       "    </tr>\n",
       "    <tr>\n",
       "      <th>std</th>\n",
       "      <td>7.694</td>\n",
       "      <td>12265.580</td>\n",
       "    </tr>\n",
       "    <tr>\n",
       "      <th>min</th>\n",
       "      <td>27.000</td>\n",
       "      <td>48000.000</td>\n",
       "    </tr>\n",
       "    <tr>\n",
       "      <th>25%</th>\n",
       "      <td>35.000</td>\n",
       "      <td>54000.000</td>\n",
       "    </tr>\n",
       "    <tr>\n",
       "      <th>50%</th>\n",
       "      <td>38.000</td>\n",
       "      <td>61000.000</td>\n",
       "    </tr>\n",
       "    <tr>\n",
       "      <th>75%</th>\n",
       "      <td>44.000</td>\n",
       "      <td>72000.000</td>\n",
       "    </tr>\n",
       "    <tr>\n",
       "      <th>max</th>\n",
       "      <td>50.000</td>\n",
       "      <td>83000.000</td>\n",
       "    </tr>\n",
       "  </tbody>\n",
       "</table>\n",
       "</div>"
      ],
      "text/plain": [
       "          Age     Salary\n",
       "count   9.000      9.000\n",
       "mean   38.778  63777.778\n",
       "std     7.694  12265.580\n",
       "min    27.000  48000.000\n",
       "25%    35.000  54000.000\n",
       "50%    38.000  61000.000\n",
       "75%    44.000  72000.000\n",
       "max    50.000  83000.000"
      ]
     },
     "execution_count": 10,
     "metadata": {},
     "output_type": "execute_result"
    }
   ],
   "source": [
    "# TODO: เขียนโค้ดที่นี่\n",
    "housing.describe()"
   ]
  },
  {
   "cell_type": "markdown",
   "id": "d7d8854f",
   "metadata": {},
   "source": [
    "## 4) การแจกแจงข้อมูล (Distribution)\n",
    "**คำสั่ง:**\n",
    "1. วาด histogram ของ `median_income`\n",
    "2. วาด histogram ของ `median_house_value`\n",
    "3. อธิบายว่าการแจกแจงเป็นแบบไหน (เบ้ซ้าย/เบ้ขวา, มีเพดานค่า ฯลฯ)\n"
   ]
  },
  {
   "cell_type": "code",
   "execution_count": 11,
   "id": "3752eadb",
   "metadata": {},
   "outputs": [
    {
     "data": {
      "text/plain": [
       "<function matplotlib.pyplot.show(close=None, block=None)>"
      ]
     },
     "execution_count": 11,
     "metadata": {},
     "output_type": "execute_result"
    },
    {
     "data": {
      "image/png": "[encoded data removed]",
      "text/plain": [
       "<Figure size 640x480 with 2 Axes>"
      ]
     },
     "metadata": {},
     "output_type": "display_data"
    }
   ],
   "source": [
    "# TODO: เขียนโค้ดที่นี่\n",
    "# bins = 50 \n",
    "housing.hist()\n",
    "plt.show"
   ]
  },
  {
   "cell_type": "code",
   "execution_count": null,
   "id": "6278e82c",
   "metadata": {},
   "outputs": [],
   "source": [
    "# TODO: เขียนโค้ดที่นี่ รูปซ้าย ไม่เบ้   รูปขวา เบซ้าย\n",
    "\n"
   ]
  },
  {
   "cell_type": "markdown",
   "id": "562c174b",
   "metadata": {},
   "source": [
    "> อธิบายด้วยคำพูดสั้น ๆ: \n",
    "- รูปร่างการกระจายของ `median_income` เป็นอย่างไร?\n",
    "- `median_house_value` มีแนวโน้มชนเพดานหรือไม่?\n"
   ]
  },
  {
   "cell_type": "markdown",
   "id": "a64840bb",
   "metadata": {},
   "source": [
    "## 5) ความสัมพันธ์ระหว่างตัวแปร (Correlation)\n",
    "**คำสั่ง:**\n",
    "1. คำนวณ correlation matrix ของตัวแปรเชิงตัวเลข (`.corr(numeric_only=True)`) \n",
    "2. หา feature ที่สัมพันธ์กับ `median_house_value` มากที่สุด (ยกเว้นตัวมันเอง)\n",
    "3. สร้าง heatmap ของ correlation matrix\n"
   ]
  },
  {
   "cell_type": "code",
   "execution_count": 12,
   "id": "7937a4b0",
   "metadata": {},
   "outputs": [
    {
     "data": {
      "text/html": [
       "<div>\n",
       "<style scoped>\n",
       "    .dataframe tbody tr th:only-of-type {\n",
       "        vertical-align: middle;\n",
       "    }\n",
       "\n",
       "    .dataframe tbody tr th {\n",
       "        vertical-align: top;\n",
       "    }\n",
       "\n",
       "    .dataframe thead th {\n",
       "        text-align: right;\n",
       "    }\n",
       "</style>\n",
       "<table border=\"1\" class=\"dataframe\">\n",
       "  <thead>\n",
       "    <tr style=\"text-align: right;\">\n",
       "      <th></th>\n",
       "      <th>Age</th>\n",
       "      <th>Salary</th>\n",
       "    </tr>\n",
       "  </thead>\n",
       "  <tbody>\n",
       "    <tr>\n",
       "      <th>Age</th>\n",
       "      <td>1.000</td>\n",
       "      <td>0.982</td>\n",
       "    </tr>\n",
       "    <tr>\n",
       "      <th>Salary</th>\n",
       "      <td>0.982</td>\n",
       "      <td>1.000</td>\n",
       "    </tr>\n",
       "  </tbody>\n",
       "</table>\n",
       "</div>"
      ],
      "text/plain": [
       "          Age  Salary\n",
       "Age     1.000   0.982\n",
       "Salary  0.982   1.000"
      ]
     },
     "execution_count": 12,
     "metadata": {},
     "output_type": "execute_result"
    }
   ],
   "source": [
    "# TODO: คำนวณ correlation matrix\n",
    "housing.corr(numeric_only=True)"
   ]
  },
  {
   "cell_type": "code",
   "execution_count": null,
   "id": "1dc1b69d",
   "metadata": {},
   "outputs": [],
   "source": [
    "# TODO: หาคอลัมน์ที่สัมพันธ์กับ median_house_value มากที่สุด\n",
    "# ยังไม่ต้องทำก็ได้ \n",
    "# ?????"
   ]
  },
  {
   "cell_type": "markdown",
   "id": "26bccc01",
   "metadata": {},
   "source": [
    "## 6) Scatter Plot ความสัมพันธ์\n",
    "**คำสั่ง:**\n",
    "1. สร้าง scatter plot ของ `median_income` กับ `median_house_value`\n",
    "2. สังเกตความสัมพันธ์และอธิบายสิ่งที่พบ\n"
   ]
  },
  {
   "cell_type": "code",
   "execution_count": 17,
   "id": "48dde3b1",
   "metadata": {},
   "outputs": [
    {
     "data": {
      "text/plain": [
       "<function matplotlib.pyplot.show(close=None, block=None)>"
      ]
     },
     "execution_count": 17,
     "metadata": {},
     "output_type": "execute_result"
    },
    {
     "data": {
      "image/png": "[encoded data removed]",
      "text/plain": [
       "<Figure size 640x480 with 1 Axes>"
      ]
     },
     "metadata": {},
     "output_type": "display_data"
    }
   ],
   "source": [
    "# TODO: เขียนโค้ดที่นี่\n",
    "import seaborn as sns\n",
    "sns.scatterplot(data=housing)\n",
    "plt.title('HUH')\n",
    "plt.show\n"
   ]
  },
  {
   "cell_type": "markdown",
   "id": "4f3e4bb9",
   "metadata": {},
   "source": [
    "## 7) Outlier Exploration\n",
    "**คำสั่ง:**\n",
    "1. ตรวจสอบคอลัมน์ที่อาจมี outlier ชัดเจน (เช่น `total_rooms`, `population`)\n",
    "2. เสนอแนวทางการจัดการ outlier (เช่น ลบ, winsorize, log transform, ใช้ robust model)\n"
   ]
  },
  {
   "cell_type": "code",
   "execution_count": null,
   "id": "1e301896",
   "metadata": {},
   "outputs": [
    {
     "data": {
      "image/png": "[encoded data removed]",
      "text/plain": [
       "<Figure size 640x480 with 1 Axes>"
      ]
     },
     "metadata": {},
     "output_type": "display_data"
    }
   ],
   "source": [
    "# TODO: ตัวอย่างเริ่มต้นสำหรับตรวจสอบ outlier ด้วย quantile\n",
    "sns.boxplot(x=housing['Age'])\n",
    "plt.show()\n"
   ]
  },
  {
   "cell_type": "markdown",
   "id": "53210597",
   "metadata": {},
   "source": [
    "### คำตอบแบบบรรยาย (สั้น ๆ)\n",
    "- คอลัมน์ใดที่น่าจะมี outlier?\n",
    "- จะจัดการอย่างไร? (เหตุผลประกอบ)\n"
   ]
  },
  {
   "cell_type": "markdown",
   "id": "d593dd9f",
   "metadata": {},
   "source": [
    "## สรุป\n",
    "จากการวิเคราะห์ นักศึกษาควรสามารถสรุปได้ว่า:\n",
    "- dataset มีตัวแปรอะไรบ้าง และมี missing values ตรงไหน\n",
    "- การกระจายตัวของข้อมูลเป็นอย่างไร\n",
    "- ตัวแปรใดสัมพันธ์กับราคาบ้าน (`median_house_value`) มากที่สุด\n",
    "- พื้นที่ไหนที่ราคาบ้านสูงหรือต่ำ\n",
    "- มี outlier หรือข้อจำกัดของข้อมูลอะไรบ้าง\n"
   ]
  }
 ],
 "metadata": {
  "kernelspec": {
   "display_name": ".venv",
   "language": "python",
   "name": "python3"
  },
  "language_info": {
   "codemirror_mode": {
    "name": "ipython",
    "version": 3
   },
   "file_extension": ".py",
   "mimetype": "text/x-python",
   "name": "python",
   "nbconvert_exporter": "python",
   "pygments_lexer": "ipython3",
   "version": "3.13.5"
  }
 },
 "nbformat": 4,
 "nbformat_minor": 5
}
