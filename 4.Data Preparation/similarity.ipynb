{
 "cells": [
  {
   "cell_type": "markdown",
   "id": "ac5a2c83",
   "metadata": {},
   "source": [
    "## 1. D i s t a n c e"
   ]
  },
  {
   "cell_type": "code",
   "execution_count": 6,
   "id": "e2393067",
   "metadata": {},
   "outputs": [],
   "source": [
    "import pandas as pd\n",
    "import numpy as np\n",
    "from scipy.spatial import distance_matrix"
   ]
  },
  {
   "cell_type": "code",
   "execution_count": 4,
   "id": "08c90ffd",
   "metadata": {},
   "outputs": [
    {
     "name": "stdout",
     "output_type": "stream",
     "text": [
      "{'ID': ['P1', 'P2', 'P3', 'P4'], 'x': [0, 2, 3, 5], 'y': [2, 0, 1, 1]}\n"
     ]
    }
   ],
   "source": [
    "#Mocking data\n",
    "data = {\n",
    "    \"ID\":[\"P1\",\"P2\",\"P3\",\"P4\"],\n",
    "    \"x\":[0,2,3,5],\n",
    "    \"y\":[2,0,1,1]\n",
    "}\n",
    "print(data)"
   ]
  },
  {
   "cell_type": "code",
   "execution_count": 8,
   "id": "8fbaf5e8",
   "metadata": {},
   "outputs": [
    {
     "data": {
      "text/html": [
       "<div>\n",
       "<style scoped>\n",
       "    .dataframe tbody tr th:only-of-type {\n",
       "        vertical-align: middle;\n",
       "    }\n",
       "\n",
       "    .dataframe tbody tr th {\n",
       "        vertical-align: top;\n",
       "    }\n",
       "\n",
       "    .dataframe thead th {\n",
       "        text-align: right;\n",
       "    }\n",
       "</style>\n",
       "<table border=\"1\" class=\"dataframe\">\n",
       "  <thead>\n",
       "    <tr style=\"text-align: right;\">\n",
       "      <th></th>\n",
       "      <th>x</th>\n",
       "      <th>y</th>\n",
       "    </tr>\n",
       "    <tr>\n",
       "      <th>ID</th>\n",
       "      <th></th>\n",
       "      <th></th>\n",
       "    </tr>\n",
       "  </thead>\n",
       "  <tbody>\n",
       "    <tr>\n",
       "      <th>P1</th>\n",
       "      <td>0</td>\n",
       "      <td>2</td>\n",
       "    </tr>\n",
       "    <tr>\n",
       "      <th>P2</th>\n",
       "      <td>2</td>\n",
       "      <td>0</td>\n",
       "    </tr>\n",
       "    <tr>\n",
       "      <th>P3</th>\n",
       "      <td>3</td>\n",
       "      <td>1</td>\n",
       "    </tr>\n",
       "    <tr>\n",
       "      <th>P4</th>\n",
       "      <td>5</td>\n",
       "      <td>1</td>\n",
       "    </tr>\n",
       "  </tbody>\n",
       "</table>\n",
       "</div>"
      ],
      "text/plain": [
       "    x  y\n",
       "ID      \n",
       "P1  0  2\n",
       "P2  2  0\n",
       "P3  3  1\n",
       "P4  5  1"
      ]
     },
     "execution_count": 8,
     "metadata": {},
     "output_type": "execute_result"
    }
   ],
   "source": [
    "#แปลง Dictionary to DataFrame\n",
    "df = pd.DataFrame(data).set_index(\"ID\")\n",
    "df"
   ]
  },
  {
   "cell_type": "code",
   "execution_count": 29,
   "id": "a4bfa6c4",
   "metadata": {},
   "outputs": [],
   "source": [
    "#Manhattan\n",
    "manhattan = distance_matrix( df.values,df.values,p=1)\n",
    "manhattan = pd.DataFrame(manhattan,index=df.index,columns=df.index)\n",
    "#Euclidian\n",
    "euclidian = distance_matrix( df.values,df.values,p=2)\n",
    "euclidian = pd.DataFrame(euclidian,index=df.index,columns=df.index)\n",
    "#Minkowsky p=3\n",
    "minkowsky = distance_matrix( df.values,df.values,p=3)\n",
    "minkowsky = pd.DataFrame(minkowsky,index=df.index,columns=df.index)"
   ]
  },
  {
   "cell_type": "code",
   "execution_count": 30,
   "id": "1a2e5203",
   "metadata": {},
   "outputs": [
    {
     "name": "stdout",
     "output_type": "stream",
     "text": [
      "manhattan\n",
      " ID   P1   P2   P3   P4\n",
      "ID                    \n",
      "P1  0.0  4.0  4.0  6.0\n",
      "P2  4.0  0.0  2.0  4.0\n",
      "P3  4.0  2.0  0.0  2.0\n",
      "P4  6.0  4.0  2.0  0.0\n",
      "euclidian\n",
      " ID     P1     P2     P3     P4\n",
      "ID                            \n",
      "P1  0.000  2.828  3.162  5.099\n",
      "P2  2.828  0.000  1.414  3.162\n",
      "P3  3.162  1.414  0.000  2.000\n",
      "P4  5.099  3.162  2.000  0.000\n",
      "minkowsky\n",
      " ID     P1     P2     P3     P4\n",
      "ID                            \n",
      "P1  0.000  2.520  3.037  5.013\n",
      "P2  2.520  0.000  1.260  3.037\n",
      "P3  3.037  1.260  0.000  2.000\n",
      "P4  5.013  3.037  2.000  0.000\n"
     ]
    }
   ],
   "source": [
    "print(\"manhattan\\n\",manhattan)\n",
    "print(\"euclidian\\n\",euclidian.round(3))\n",
    "print(\"minkowsky\\n\",minkowsky.round(3))"
   ]
  }
 ],
 "metadata": {
  "kernelspec": {
   "display_name": ".venv",
   "language": "python",
   "name": "python3"
  },
  "language_info": {
   "codemirror_mode": {
    "name": "ipython",
    "version": 3
   },
   "file_extension": ".py",
   "mimetype": "text/x-python",
   "name": "python",
   "nbconvert_exporter": "python",
   "pygments_lexer": "ipython3",
   "version": "3.13.5"
  }
 },
 "nbformat": 4,
 "nbformat_minor": 5
}
