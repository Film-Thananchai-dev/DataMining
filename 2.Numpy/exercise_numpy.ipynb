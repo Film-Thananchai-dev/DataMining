{
 "cells": [
  {
   "cell_type": "markdown",
   "id": "6a093d98",
   "metadata": {},
   "source": [
    "## แบบฝึกหัด NumPy – การสร้างและใช้งานอาเรย์"
   ]
  },
  {
   "cell_type": "code",
   "execution_count": null,
   "id": "2a49ea29",
   "metadata": {},
   "outputs": [
    {
     "name": "stdout",
     "output_type": "stream",
     "text": [
      "[ 1  3  5  7  9 11 13 15]\n"
     ]
    }
   ],
   "source": [
    "#ข้อ1.สร้างอาเรย์ 1 มิติ (1D array) สร้างอาเรย์ ขนาด 8 ที่มีค่าเป็น เลขคี่ จาก 1 ถึง 15 โดยใช้ np.arange()\n",
    "import numpy as np\n",
    "array_1d = np.arange(1, 16, 2)\n",
    "print(array_1d)"
   ]
  },
  {
   "cell_type": "code",
   "execution_count": null,
   "id": "04e91278",
   "metadata": {},
   "outputs": [
    {
     "name": "stdout",
     "output_type": "stream",
     "text": [
      "[[9 9 9 9 9]\n",
      " [9 9 9 9 9]\n",
      " [9 9 9 9 9]]\n"
     ]
    }
   ],
   "source": [
    "#ข้อ2.สร้างอาเรย์ 2 มิติ (2D array) สร้างอาเรย์ 3 แถว 5 คอลัมน์ ที่มีค่าเริ่มต้นทั้งหมดเป็น 9 โดยใช้ฟังก์ชันที่เหมาะสม (np.full() หรือวิธีอื่น)\n",
    "array_2d = np.full((3, 5), 9)\n",
    "print(array_2d)"
   ]
  },
  {
   "cell_type": "code",
   "execution_count": null,
   "id": "eb8dedba",
   "metadata": {},
   "outputs": [
    {
     "name": "stdout",
     "output_type": "stream",
     "text": [
      "[[[0. 0. 0. 0.]\n",
      "  [0. 0. 0. 0.]\n",
      "  [0. 0. 0. 0.]]\n",
      "\n",
      " [[0. 0. 0. 0.]\n",
      "  [0. 0. 0. 0.]\n",
      "  [0. 0. 0. 0.]]]\n",
      "Shape: (2, 3, 4)\n"
     ]
    }
   ],
   "source": [
    "#ข้อ3.สร้างอาเรย์ 3 มิติ (3D array) สร้างอาเรย์ 2 × 3 × 4 ที่มีค่าเป็น 0 ทั้งหมด โดยใช้ np.zeros() และตรวจสอบ shape ของอาเรย์นั้น\n",
    "array_3d = np.zeros((2, 3, 4))\n",
    "print(array_3d)\n",
    "print(\"Shape:\", array_3d.shape)"
   ]
  },
  {
   "cell_type": "code",
   "execution_count": null,
   "id": "2dbdfdd4",
   "metadata": {},
   "outputs": [
    {
     "name": "stdout",
     "output_type": "stream",
     "text": [
      "[0.         0.55555556 1.11111111 1.66666667 2.22222222 2.77777778\n",
      " 3.33333333 3.88888889 4.44444444 5.        ]\n"
     ]
    }
   ],
   "source": [
    "#ข้อ4.การใช้ np.linspace() สร้างอาเรย์ที่มี 10 ค่า ซึ่งกระจายจาก 0 ถึง 5 แบบมีช่วงเท่ากันทุกตำแหน่ง  ???\n",
    "lin_array = np.linspace(0, 5, 10)\n",
    "print(lin_array)"
   ]
  },
  {
   "cell_type": "markdown",
   "id": "cc5273de",
   "metadata": {},
   "source": [
    "## แบบฝึกหัด: NumPy Indexing & Slicing default_array = np.array([1,2,3,4,5,6]) default_array_2d = np.array([ [1,2,3,4], [5,6,7,8], [9,10,11,12]"
   ]
  },
  {
   "cell_type": "code",
   "execution_count": 26,
   "id": "467040fb",
   "metadata": {},
   "outputs": [
    {
     "name": "stdout",
     "output_type": "stream",
     "text": [
      "6\n"
     ]
    }
   ],
   "source": [
    "# ข้อ1.เลือกสมาชิกตัวสุดท้าย ของ default_array โดยใช้ index โดยสร้างตัวแปรชื่อ last_item เพื่อรับค่า\n",
    "default_array = np.array([1, 2, 3, 4, 5, 6])\n",
    "default_array_2d = np.array([\n",
    "    [1, 2, 3, 4],\n",
    "    [5, 6, 7, 8],\n",
    "    [9,10,11,12]\n",
    "])\n",
    "last_item = default_array[5]\n",
    "print(last_item) "
   ]
  },
  {
   "cell_type": "code",
   "execution_count": 13,
   "id": "91c4178e",
   "metadata": {},
   "outputs": [
    {
     "name": "stdout",
     "output_type": "stream",
     "text": [
      "[2 3 4]\n"
     ]
    }
   ],
   "source": [
    "# ข้อ2.เลือกสมาชิกตั้งแต่ตำแหน่งที่ 2 ถึง 4 (index 1–3) ของ default_array โดยสร้างตัวแปรชื่อ slice_2_to_4 เพื่อรับค่า\n",
    "slice_2_to_4 = default_array[1:4]\n",
    "print(slice_2_to_4)"
   ]
  },
  {
   "cell_type": "code",
   "execution_count": 27,
   "id": "e9699d4d",
   "metadata": {},
   "outputs": [
    {
     "name": "stdout",
     "output_type": "stream",
     "text": [
      "[ 2  6 10]\n"
     ]
    }
   ],
   "source": [
    "# ข้อ3.เลือกค่าทั้งหมดในคอลัมน์ที่ 2 ของ default_array_2d โดยสร้างตัวแปรชื่อ column_2 hint [:, 1]\n",
    "column_2 = default_array_2d[:, 1]\n",
    "print(column_2)"
   ]
  },
  {
   "cell_type": "code",
   "execution_count": 28,
   "id": "542b5083",
   "metadata": {},
   "outputs": [
    {
     "name": "stdout",
     "output_type": "stream",
     "text": [
      "[3 4]\n"
     ]
    }
   ],
   "source": [
    "# ข้อ4.เลือกค่าในแถวแรก 2 ตัวสุดท้าย ของ default_array_2d โดยสร้างตัวแปรชื่อ row1_last2 เพื่อรับค่า\n",
    "row1_last2 = default_array_2d[0, 2:]\n",
    "print(row1_last2)"
   ]
  },
  {
   "cell_type": "code",
   "execution_count": 29,
   "id": "52668813",
   "metadata": {},
   "outputs": [
    {
     "name": "stdout",
     "output_type": "stream",
     "text": [
      "12\n"
     ]
    }
   ],
   "source": [
    "# ข้อ5.เลือกค่าที่อยู่มุมขวาล่าง (แถวสุดท้าย คอลัมน์สุดท้าย) ของ default_array_2d โดยสร้างตัวแปรชื่อ bottom_right เพื่อรับค่า\n",
    "bottom_right = default_array_2d[2, 3]\n",
    "print(bottom_right)"
   ]
  },
  {
   "cell_type": "markdown",
   "id": "ca298244",
   "metadata": {},
   "source": [
    "## แบบฝึกหัด 3: คำนวณ (x^2 + 2x) เมื่อ x = [1,2,3,4]"
   ]
  },
  {
   "cell_type": "code",
   "execution_count": 31,
   "id": "06d54c18",
   "metadata": {},
   "outputs": [
    {
     "name": "stdout",
     "output_type": "stream",
     "text": [
      "[ 3  8 15 24]\n"
     ]
    }
   ],
   "source": [
    "x = np.array([1, 2, 3, 4])\n",
    "result = ( x**2 + 2*x )\n",
    "print(result)"
   ]
  }
 ],
 "metadata": {
  "kernelspec": {
   "display_name": "env",
   "language": "python",
   "name": "python3"
  },
  "language_info": {
   "codemirror_mode": {
    "name": "ipython",
    "version": 3
   },
   "file_extension": ".py",
   "mimetype": "text/x-python",
   "name": "python",
   "nbconvert_exporter": "python",
   "pygments_lexer": "ipython3",
   "version": "3.13.5"
  }
 },
 "nbformat": 4,
 "nbformat_minor": 5
}
