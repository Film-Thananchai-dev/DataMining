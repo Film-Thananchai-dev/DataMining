{
 "cells": [
  {
   "cell_type": "markdown",
   "id": "84052b23",
   "metadata": {},
   "source": [
    "## 1. Import numpy as np เรียกใช้งาน numpy"
   ]
  },
  {
   "cell_type": "code",
   "execution_count": 1,
   "id": "4da6fc8f",
   "metadata": {},
   "outputs": [],
   "source": [
    "import numpy as np"
   ]
  },
  {
   "cell_type": "code",
   "execution_count": 4,
   "id": "4595bc0a",
   "metadata": {},
   "outputs": [],
   "source": [
    "# syntax creating Array\n",
    "# array_ = np.array()\n",
    "# 1 - dimensiona1 array 1,5,2,0 \n",
    "arr_1d = np.array([ 1, 5, 2, 0 ])\n",
    "# 2 - dimensional array  1,5,2,0  8,3,6,1  1,7,2,9\n",
    "arr_2d = np.array([ [1,5,2,0], [8,3,6,1], [1,7,2,9] ])\n",
    "\n",
    "# 3 - dimensional array 10, 15, 20, 25   30, 35, 40, 45   50, 55, 60, 65 \n",
    "arr_3d = np.array([ [10, 15], \n",
    "                [ 20, 25], \n",
    "                \n",
    "                [30, 35], \n",
    "                [40, 45],\n",
    "                \n",
    "                [50, 55], \n",
    "                [60, 65] ])\n"
   ]
  },
  {
   "cell_type": "code",
   "execution_count": 3,
   "id": "8a41cb22",
   "metadata": {},
   "outputs": [
    {
     "name": "stdout",
     "output_type": "stream",
     "text": [
      "[1 5 2 0]\n"
     ]
    }
   ],
   "source": [
    "print (arr_1d)"
   ]
  },
  {
   "cell_type": "code",
   "execution_count": 7,
   "id": "7df7d470",
   "metadata": {},
   "outputs": [
    {
     "name": "stdout",
     "output_type": "stream",
     "text": [
      "[1 5 2 0]\n",
      "           \n",
      "[[1 5 2 0]\n",
      " [8 3 6 1]\n",
      " [1 7 2 9]]\n",
      "              \n",
      "[[10 15]\n",
      " [20 25]\n",
      " [30 35]\n",
      " [40 45]\n",
      " [50 55]\n",
      " [60 65]]\n"
     ]
    }
   ],
   "source": [
    "print(arr_1d)\n",
    "print(\"           \")\n",
    "print(arr_2d)\n",
    "print(\"              \")\n",
    "print(arr_3d)"
   ]
  },
  {
   "cell_type": "code",
   "execution_count": 8,
   "id": "e18acca3",
   "metadata": {},
   "outputs": [],
   "source": [
    "default_array = np.array([1,2,3,4,5,6])\n",
    "default_array_2d = np.array([ [1,2,3,4], [5,6,7,8], [9,10,11,12] ])"
   ]
  },
  {
   "cell_type": "code",
   "execution_count": 34,
   "id": "55f267e3",
   "metadata": {},
   "outputs": [
    {
     "data": {
      "text/plain": [
       "array([1, 2, 3])"
      ]
     },
     "execution_count": 34,
     "metadata": {},
     "output_type": "execute_result"
    }
   ],
   "source": [
    "# สามตัวแรก จาก default_array\n",
    "default_array[ :3]\n",
    "\n",
    "# ตัวที่ 4 เป็นต้นไป default_array\n",
    "# default_array[3:]\n",
    "\n",
    "# สมาชิกใน row 2 columns 4 \n",
    "# default_array_2d[1,3]"
   ]
  },
  {
   "cell_type": "code",
   "execution_count": 12,
   "id": "bcd110b3",
   "metadata": {},
   "outputs": [],
   "source": [
    "array_attribute = np.array([ [  1, 2, 3, 4 ], [  5, 6, 7, 8 ], [ 9, 10, 11, 12 ] ])"
   ]
  },
  {
   "cell_type": "code",
   "execution_count": null,
   "id": "05429342",
   "metadata": {},
   "outputs": [
    {
     "data": {
      "text/plain": [
       "dtype('int64')"
      ]
     },
     "execution_count": 16,
     "metadata": {},
     "output_type": "execute_result"
    }
   ],
   "source": [
    "# ตรวจสอบคุณสมบัติของ Array\n",
    "# array_attribute.ndim ดูว่ามีกี่มิติ 2\n",
    "# array_attribute.shape ดูว่ามีแถวกี่คอลัมน์ (3ม 4)\n",
    "# array_attribute.size จำนวนสมาชิก 12\n",
    "# array_attribute.dtype ตรวจสอบข้อมูล"
   ]
  },
  {
   "cell_type": "code",
   "execution_count": 19,
   "id": "b5640219",
   "metadata": {},
   "outputs": [],
   "source": [
    "zero_2d_array = np.zeros(2)\n",
    "one_1d_array = np.ones(5)\n",
    "arange_array = np.arange(4)\n",
    "step_arang_array= np.arange(2,9,2)  # start stop step "
   ]
  },
  {
   "cell_type": "code",
   "execution_count": null,
   "id": "bd9ae186",
   "metadata": {},
   "outputs": [
    {
     "name": "stdout",
     "output_type": "stream",
     "text": [
      "[0. 0.]\n",
      "[1. 1. 1. 1. 1.]\n",
      "[0 1 2 3]\n",
      "[1. 1. 1. 1. 1.]\n"
     ]
    }
   ],
   "source": [
    "# zero_2d_array\n",
    "print(zero_2d_array)\n",
    "# one_1d_array\n",
    "print(one_1d_array)\n",
    "# arang_array\n",
    "print(arange_array)\n",
    "# step_arang_array\n",
    "print(one_1d_array)"
   ]
  },
  {
   "cell_type": "code",
   "execution_count": 20,
   "id": "8f1336dd",
   "metadata": {},
   "outputs": [],
   "source": [
    "data = np.array([ 1, 2])\n",
    "ones = np.ones(2)# [1, 1 ]\n",
    "b = np.array([ [1,1], [2,2] ])  \n",
    "# [ 1, 1 ]  \n",
    "# [ 2, 2 ]"
   ]
  },
  {
   "cell_type": "code",
   "execution_count": 21,
   "id": "37d1b83c",
   "metadata": {},
   "outputs": [],
   "source": [
    "sum = data + ones  \n",
    "diff = data - ones \n",
    "multiply_array = data * ones \n",
    "divide_array = data/ones\n",
    "col_sum = b.sum(axis=0) # ผลรวมแนว column\n",
    "row_sum= b.sum(axis=1) # ผลรวมแนว row "
   ]
  },
  {
   "cell_type": "code",
   "execution_count": 22,
   "id": "60192e21",
   "metadata": {},
   "outputs": [
    {
     "name": "stdout",
     "output_type": "stream",
     "text": [
      "[2 4]\n"
     ]
    }
   ],
   "source": [
    "sum\n",
    "diff\n",
    "multiply_array\n",
    "divide_array\n",
    "# print(col_sum)  \n",
    "print(row_sum)"
   ]
  },
  {
   "cell_type": "code",
   "execution_count": 23,
   "id": "d93375d0",
   "metadata": {},
   "outputs": [
    {
     "name": "stdout",
     "output_type": "stream",
     "text": [
      "a + b = [5 7 9]\n",
      "a * 10 = [10 20 30]\n",
      "a ** 2 = [1 4 9]\n",
      "b/2 [2.  2.5 3. ]\n"
     ]
    }
   ],
   "source": [
    "a = np.array([1,2,3])\n",
    "b = np.array([4,5,6])\n",
    "\n",
    "print(\"a + b =\", a + b)\n",
    "print(\"a * 10 =\", a * 10)\n",
    "print(\"a ** 2 =\", a ** 2)\n",
    "print(\"b/2\", b/2)"
   ]
  },
  {
   "cell_type": "code",
   "execution_count": 24,
   "id": "4713ca3a",
   "metadata": {},
   "outputs": [
    {
     "name": "stdout",
     "output_type": "stream",
     "text": [
      "a + b = [5 7 9]\n",
      "a * 10 = [10 20 30]\n",
      "a ** 2 = [1 4 9]\n",
      "b/2 [2.  2.5 3. ]\n"
     ]
    }
   ],
   "source": [
    "# a + b \n",
    "print(\"a + b =\", a + b)\n",
    "# a * 10 \n",
    "print(\"a * 10 =\", a * 10)\n",
    "# a^2\n",
    "print(\"a ** 2 =\", a ** 2)\n",
    "# b / 2 \n",
    "print(\"b/2\", b/2)"
   ]
  },
  {
   "cell_type": "code",
   "execution_count": 25,
   "id": "2f675938",
   "metadata": {},
   "outputs": [],
   "source": [
    "array_sample = np.arange(20)"
   ]
  },
  {
   "cell_type": "code",
   "execution_count": 26,
   "id": "45936076",
   "metadata": {},
   "outputs": [
    {
     "name": "stdout",
     "output_type": "stream",
     "text": [
      "[ 0  1  2  3  4  5  6  7  8  9 10 11 12 13 14 15 16 17 18 19]\n"
     ]
    }
   ],
   "source": [
    "print(array_sample)"
   ]
  },
  {
   "cell_type": "code",
   "execution_count": 32,
   "id": "cbb06d05",
   "metadata": {},
   "outputs": [
    {
     "data": {
      "text/plain": [
       "array([[ 0,  1,  2,  3],\n",
       "       [ 4,  5,  6,  7],\n",
       "       [ 8,  9, 10, 11],\n",
       "       [12, 13, 14, 15],\n",
       "       [16, 17, 18, 19]])"
      ]
     },
     "execution_count": 32,
     "metadata": {},
     "output_type": "execute_result"
    }
   ],
   "source": [
    "#reshape สองแถว\n",
    "# array_sample.reshape(2,10)\n",
    "#reshape 10แถว\n",
    "# array_sample.reshape(10,2)\n",
    "array_sample.reshape(5,4)"
   ]
  }
 ],
 "metadata": {
  "kernelspec": {
   "display_name": "env",
   "language": "python",
   "name": "python3"
  },
  "language_info": {
   "codemirror_mode": {
    "name": "ipython",
    "version": 3
   },
   "file_extension": ".py",
   "mimetype": "text/x-python",
   "name": "python",
   "nbconvert_exporter": "python",
   "pygments_lexer": "ipython3",
   "version": "3.13.5"
  }
 },
 "nbformat": 4,
 "nbformat_minor": 5
}
